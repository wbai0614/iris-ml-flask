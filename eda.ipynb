{
 "cells": [
  {
   "cell_type": "code",
   "execution_count": 1,
   "id": "23d1b2e5",
   "metadata": {},
   "outputs": [],
   "source": [
    "import pandas as pd\n",
    "import numpy as np\n",
    "from sklearn.datasets import load_iris\n",
    "from sklearn.preprocessing import StandardScaler"
   ]
  },
  {
   "cell_type": "code",
   "execution_count": 2,
   "id": "73e4a1a9",
   "metadata": {},
   "outputs": [],
   "source": [
    "#Step 2 Load the iris dataset\n",
    "iris=load_iris()"
   ]
  },
  {
   "cell_type": "code",
   "execution_count": 3,
   "id": "ed7c60aa",
   "metadata": {},
   "outputs": [],
   "source": [
    "#Step 3: Convert to pandas DataFrame\n",
    "df = pd.DataFrame(data=iris.data,columns=iris.feature_names)\n",
    "df['target'] = iris.target\n",
    "df['species'] = df['target'].map(dict(zip(range(3),iris.target_names)))"
   ]
  },
  {
   "cell_type": "code",
   "execution_count": 4,
   "id": "079be786",
   "metadata": {},
   "outputs": [
    {
     "name": "stdout",
     "output_type": "stream",
     "text": [
      "     sepal length (cm)  sepal width (cm)  petal length (cm)  petal width (cm)  \\\n",
      "0                  5.1               3.5                1.4               0.2   \n",
      "1                  4.9               3.0                1.4               0.2   \n",
      "2                  4.7               3.2                1.3               0.2   \n",
      "3                  4.6               3.1                1.5               0.2   \n",
      "4                  5.0               3.6                1.4               0.2   \n",
      "..                 ...               ...                ...               ...   \n",
      "145                6.7               3.0                5.2               2.3   \n",
      "146                6.3               2.5                5.0               1.9   \n",
      "147                6.5               3.0                5.2               2.0   \n",
      "148                6.2               3.4                5.4               2.3   \n",
      "149                5.9               3.0                5.1               1.8   \n",
      "\n",
      "     target    species  \n",
      "0         0     setosa  \n",
      "1         0     setosa  \n",
      "2         0     setosa  \n",
      "3         0     setosa  \n",
      "4         0     setosa  \n",
      "..      ...        ...  \n",
      "145       2  virginica  \n",
      "146       2  virginica  \n",
      "147       2  virginica  \n",
      "148       2  virginica  \n",
      "149       2  virginica  \n",
      "\n",
      "[150 rows x 6 columns]\n"
     ]
    }
   ],
   "source": [
    "print(df)"
   ]
  },
  {
   "cell_type": "code",
   "execution_count": 6,
   "id": "e9b1f75f",
   "metadata": {},
   "outputs": [
    {
     "name": "stdout",
     "output_type": "stream",
     "text": [
      "Dataset Shape: (150, 6)\n",
      "\n",
      "First 5 rows:\n",
      "    sepal length (cm)  sepal width (cm)  petal length (cm)  petal width (cm)  \\\n",
      "0                5.1               3.5                1.4               0.2   \n",
      "1                4.9               3.0                1.4               0.2   \n",
      "2                4.7               3.2                1.3               0.2   \n",
      "3                4.6               3.1                1.5               0.2   \n",
      "4                5.0               3.6                1.4               0.2   \n",
      "\n",
      "   target species  \n",
      "0       0  setosa  \n",
      "1       0  setosa  \n",
      "2       0  setosa  \n",
      "3       0  setosa  \n",
      "4       0  setosa  \n",
      "\n",
      "Column names: ['sepal length (cm)', 'sepal width (cm)', 'petal length (cm)', 'petal width (cm)', 'target', 'species']\n"
     ]
    }
   ],
   "source": [
    "#Step 4 display basic info\n",
    "print(\"Dataset Shape:\",df.shape)\n",
    "print(\"\\nFirst 5 rows:\\n\",df.head())\n",
    "print(\"\\nColumn names:\",df.columns.tolist())"
   ]
  },
  {
   "cell_type": "code",
   "execution_count": 7,
   "id": "baf854d1",
   "metadata": {},
   "outputs": [],
   "source": [
    "#Step 5: Optional Standarization (important for KMeans)\n",
    "scaler = StandardScaler()\n",
    "scaled_features=scaler.fit_transform(df[iris.feature_names])\n",
    "\n",
    "df_scaled = pd.DataFrame(scaled_features,columns=iris.feature_names)\n",
    "df_scaled['target'] = df['target']\n",
    "df_scaled['species'] = df['species']"
   ]
  },
  {
   "cell_type": "code",
   "execution_count": 9,
   "id": "879781b4",
   "metadata": {},
   "outputs": [
    {
     "name": "stdout",
     "output_type": "stream",
     "text": [
      "\n",
      "Data saved: iris_raw.csv (original) & iris_scaled.csv (standarized)\n"
     ]
    }
   ],
   "source": [
    "#Step 6: Save processed datasets\n",
    "df.to_csv('iris_raw.csv',index=False)\n",
    "df_scaled.to_csv('iris_scaled.csv',index=False)\n",
    "print(\"\\nData saved: iris_raw.csv (original) & iris_scaled.csv (standarized)\")"
   ]
  }
 ],
 "metadata": {
  "kernelspec": {
   "display_name": "myenv",
   "language": "python",
   "name": "python3"
  },
  "language_info": {
   "codemirror_mode": {
    "name": "ipython",
    "version": 3
   },
   "file_extension": ".py",
   "mimetype": "text/x-python",
   "name": "python",
   "nbconvert_exporter": "python",
   "pygments_lexer": "ipython3",
   "version": "3.13.5"
  }
 },
 "nbformat": 4,
 "nbformat_minor": 5
}
