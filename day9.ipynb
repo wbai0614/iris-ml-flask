{
 "cells": [
  {
   "cell_type": "code",
   "execution_count": 150,
   "id": "80509f88",
   "metadata": {},
   "outputs": [],
   "source": [
    "import seaborn as sns\n",
    "import matplotlib.pyplot as plt\n",
    "import pandas as pd"
   ]
  },
  {
   "cell_type": "code",
   "execution_count": 151,
   "id": "19621cf2",
   "metadata": {},
   "outputs": [],
   "source": [
    "titanic = sns.load_dataset('titanic')"
   ]
  },
  {
   "cell_type": "code",
   "execution_count": 152,
   "id": "228b3ede",
   "metadata": {},
   "outputs": [
    {
     "data": {
      "text/html": [
       "<div>\n",
       "<style scoped>\n",
       "    .dataframe tbody tr th:only-of-type {\n",
       "        vertical-align: middle;\n",
       "    }\n",
       "\n",
       "    .dataframe tbody tr th {\n",
       "        vertical-align: top;\n",
       "    }\n",
       "\n",
       "    .dataframe thead th {\n",
       "        text-align: right;\n",
       "    }\n",
       "</style>\n",
       "<table border=\"1\" class=\"dataframe\">\n",
       "  <thead>\n",
       "    <tr style=\"text-align: right;\">\n",
       "      <th></th>\n",
       "      <th>survived</th>\n",
       "      <th>pclass</th>\n",
       "      <th>sex</th>\n",
       "      <th>age</th>\n",
       "      <th>sibsp</th>\n",
       "      <th>parch</th>\n",
       "      <th>fare</th>\n",
       "      <th>embarked</th>\n",
       "      <th>class</th>\n",
       "      <th>who</th>\n",
       "      <th>adult_male</th>\n",
       "      <th>deck</th>\n",
       "      <th>embark_town</th>\n",
       "      <th>alive</th>\n",
       "      <th>alone</th>\n",
       "    </tr>\n",
       "  </thead>\n",
       "  <tbody>\n",
       "    <tr>\n",
       "      <th>0</th>\n",
       "      <td>0</td>\n",
       "      <td>3</td>\n",
       "      <td>male</td>\n",
       "      <td>22.0</td>\n",
       "      <td>1</td>\n",
       "      <td>0</td>\n",
       "      <td>7.2500</td>\n",
       "      <td>S</td>\n",
       "      <td>Third</td>\n",
       "      <td>man</td>\n",
       "      <td>True</td>\n",
       "      <td>NaN</td>\n",
       "      <td>Southampton</td>\n",
       "      <td>no</td>\n",
       "      <td>False</td>\n",
       "    </tr>\n",
       "    <tr>\n",
       "      <th>1</th>\n",
       "      <td>1</td>\n",
       "      <td>1</td>\n",
       "      <td>female</td>\n",
       "      <td>38.0</td>\n",
       "      <td>1</td>\n",
       "      <td>0</td>\n",
       "      <td>71.2833</td>\n",
       "      <td>C</td>\n",
       "      <td>First</td>\n",
       "      <td>woman</td>\n",
       "      <td>False</td>\n",
       "      <td>C</td>\n",
       "      <td>Cherbourg</td>\n",
       "      <td>yes</td>\n",
       "      <td>False</td>\n",
       "    </tr>\n",
       "    <tr>\n",
       "      <th>2</th>\n",
       "      <td>1</td>\n",
       "      <td>3</td>\n",
       "      <td>female</td>\n",
       "      <td>26.0</td>\n",
       "      <td>0</td>\n",
       "      <td>0</td>\n",
       "      <td>7.9250</td>\n",
       "      <td>S</td>\n",
       "      <td>Third</td>\n",
       "      <td>woman</td>\n",
       "      <td>False</td>\n",
       "      <td>NaN</td>\n",
       "      <td>Southampton</td>\n",
       "      <td>yes</td>\n",
       "      <td>True</td>\n",
       "    </tr>\n",
       "    <tr>\n",
       "      <th>3</th>\n",
       "      <td>1</td>\n",
       "      <td>1</td>\n",
       "      <td>female</td>\n",
       "      <td>35.0</td>\n",
       "      <td>1</td>\n",
       "      <td>0</td>\n",
       "      <td>53.1000</td>\n",
       "      <td>S</td>\n",
       "      <td>First</td>\n",
       "      <td>woman</td>\n",
       "      <td>False</td>\n",
       "      <td>C</td>\n",
       "      <td>Southampton</td>\n",
       "      <td>yes</td>\n",
       "      <td>False</td>\n",
       "    </tr>\n",
       "    <tr>\n",
       "      <th>4</th>\n",
       "      <td>0</td>\n",
       "      <td>3</td>\n",
       "      <td>male</td>\n",
       "      <td>35.0</td>\n",
       "      <td>0</td>\n",
       "      <td>0</td>\n",
       "      <td>8.0500</td>\n",
       "      <td>S</td>\n",
       "      <td>Third</td>\n",
       "      <td>man</td>\n",
       "      <td>True</td>\n",
       "      <td>NaN</td>\n",
       "      <td>Southampton</td>\n",
       "      <td>no</td>\n",
       "      <td>True</td>\n",
       "    </tr>\n",
       "  </tbody>\n",
       "</table>\n",
       "</div>"
      ],
      "text/plain": [
       "   survived  pclass     sex   age  sibsp  parch     fare embarked  class  \\\n",
       "0         0       3    male  22.0      1      0   7.2500        S  Third   \n",
       "1         1       1  female  38.0      1      0  71.2833        C  First   \n",
       "2         1       3  female  26.0      0      0   7.9250        S  Third   \n",
       "3         1       1  female  35.0      1      0  53.1000        S  First   \n",
       "4         0       3    male  35.0      0      0   8.0500        S  Third   \n",
       "\n",
       "     who  adult_male deck  embark_town alive  alone  \n",
       "0    man        True  NaN  Southampton    no  False  \n",
       "1  woman       False    C    Cherbourg   yes  False  \n",
       "2  woman       False  NaN  Southampton   yes   True  \n",
       "3  woman       False    C  Southampton   yes  False  \n",
       "4    man        True  NaN  Southampton    no   True  "
      ]
     },
     "execution_count": 152,
     "metadata": {},
     "output_type": "execute_result"
    }
   ],
   "source": [
    "titanic.head()"
   ]
  },
  {
   "cell_type": "code",
   "execution_count": 153,
   "id": "ce3344bc",
   "metadata": {},
   "outputs": [],
   "source": [
    "summary = titanic['age'].describe()"
   ]
  },
  {
   "cell_type": "code",
   "execution_count": 154,
   "id": "6c8f4dfc",
   "metadata": {},
   "outputs": [
    {
     "data": {
      "text/plain": [
       "count    714.000000\n",
       "mean      29.699118\n",
       "std       14.526497\n",
       "min        0.420000\n",
       "25%       20.125000\n",
       "50%       28.000000\n",
       "75%       38.000000\n",
       "max       80.000000\n",
       "Name: age, dtype: float64"
      ]
     },
     "execution_count": 154,
     "metadata": {},
     "output_type": "execute_result"
    }
   ],
   "source": [
    "summary"
   ]
  },
  {
   "cell_type": "code",
   "execution_count": 155,
   "id": "b58460e2",
   "metadata": {},
   "outputs": [],
   "source": [
    "five_num = (summary['min'],summary['25%'],summary['50%'],summary['75%'],summary['max'])"
   ]
  },
  {
   "cell_type": "code",
   "execution_count": 156,
   "id": "3d0746b4",
   "metadata": {},
   "outputs": [
    {
     "name": "stdout",
     "output_type": "stream",
     "text": [
      "Five-number summary (Age): (np.float64(0.42), np.float64(20.125), np.float64(28.0), np.float64(38.0), np.float64(80.0))\n"
     ]
    }
   ],
   "source": [
    "print(\"Five-number summary (Age):\",five_num)"
   ]
  },
  {
   "cell_type": "code",
   "execution_count": 157,
   "id": "54340776",
   "metadata": {},
   "outputs": [
    {
     "data": {
      "text/html": [
       "<div>\n",
       "<style scoped>\n",
       "    .dataframe tbody tr th:only-of-type {\n",
       "        vertical-align: middle;\n",
       "    }\n",
       "\n",
       "    .dataframe tbody tr th {\n",
       "        vertical-align: top;\n",
       "    }\n",
       "\n",
       "    .dataframe thead th {\n",
       "        text-align: right;\n",
       "    }\n",
       "</style>\n",
       "<table border=\"1\" class=\"dataframe\">\n",
       "  <thead>\n",
       "    <tr style=\"text-align: right;\">\n",
       "      <th></th>\n",
       "      <th>survived</th>\n",
       "      <th>pclass</th>\n",
       "      <th>age</th>\n",
       "      <th>sibsp</th>\n",
       "      <th>parch</th>\n",
       "      <th>fare</th>\n",
       "    </tr>\n",
       "  </thead>\n",
       "  <tbody>\n",
       "    <tr>\n",
       "      <th>count</th>\n",
       "      <td>891.000000</td>\n",
       "      <td>891.000000</td>\n",
       "      <td>714.000000</td>\n",
       "      <td>891.000000</td>\n",
       "      <td>891.000000</td>\n",
       "      <td>891.000000</td>\n",
       "    </tr>\n",
       "    <tr>\n",
       "      <th>mean</th>\n",
       "      <td>0.383838</td>\n",
       "      <td>2.308642</td>\n",
       "      <td>29.699118</td>\n",
       "      <td>0.523008</td>\n",
       "      <td>0.381594</td>\n",
       "      <td>32.204208</td>\n",
       "    </tr>\n",
       "    <tr>\n",
       "      <th>std</th>\n",
       "      <td>0.486592</td>\n",
       "      <td>0.836071</td>\n",
       "      <td>14.526497</td>\n",
       "      <td>1.102743</td>\n",
       "      <td>0.806057</td>\n",
       "      <td>49.693429</td>\n",
       "    </tr>\n",
       "    <tr>\n",
       "      <th>min</th>\n",
       "      <td>0.000000</td>\n",
       "      <td>1.000000</td>\n",
       "      <td>0.420000</td>\n",
       "      <td>0.000000</td>\n",
       "      <td>0.000000</td>\n",
       "      <td>0.000000</td>\n",
       "    </tr>\n",
       "    <tr>\n",
       "      <th>25%</th>\n",
       "      <td>0.000000</td>\n",
       "      <td>2.000000</td>\n",
       "      <td>20.125000</td>\n",
       "      <td>0.000000</td>\n",
       "      <td>0.000000</td>\n",
       "      <td>7.910400</td>\n",
       "    </tr>\n",
       "    <tr>\n",
       "      <th>50%</th>\n",
       "      <td>0.000000</td>\n",
       "      <td>3.000000</td>\n",
       "      <td>28.000000</td>\n",
       "      <td>0.000000</td>\n",
       "      <td>0.000000</td>\n",
       "      <td>14.454200</td>\n",
       "    </tr>\n",
       "    <tr>\n",
       "      <th>75%</th>\n",
       "      <td>1.000000</td>\n",
       "      <td>3.000000</td>\n",
       "      <td>38.000000</td>\n",
       "      <td>1.000000</td>\n",
       "      <td>0.000000</td>\n",
       "      <td>31.000000</td>\n",
       "    </tr>\n",
       "    <tr>\n",
       "      <th>max</th>\n",
       "      <td>1.000000</td>\n",
       "      <td>3.000000</td>\n",
       "      <td>80.000000</td>\n",
       "      <td>8.000000</td>\n",
       "      <td>6.000000</td>\n",
       "      <td>512.329200</td>\n",
       "    </tr>\n",
       "  </tbody>\n",
       "</table>\n",
       "</div>"
      ],
      "text/plain": [
       "         survived      pclass         age       sibsp       parch        fare\n",
       "count  891.000000  891.000000  714.000000  891.000000  891.000000  891.000000\n",
       "mean     0.383838    2.308642   29.699118    0.523008    0.381594   32.204208\n",
       "std      0.486592    0.836071   14.526497    1.102743    0.806057   49.693429\n",
       "min      0.000000    1.000000    0.420000    0.000000    0.000000    0.000000\n",
       "25%      0.000000    2.000000   20.125000    0.000000    0.000000    7.910400\n",
       "50%      0.000000    3.000000   28.000000    0.000000    0.000000   14.454200\n",
       "75%      1.000000    3.000000   38.000000    1.000000    0.000000   31.000000\n",
       "max      1.000000    3.000000   80.000000    8.000000    6.000000  512.329200"
      ]
     },
     "execution_count": 157,
     "metadata": {},
     "output_type": "execute_result"
    }
   ],
   "source": [
    "titanic.describe()"
   ]
  },
  {
   "cell_type": "code",
   "execution_count": 158,
   "id": "f4c7a0fe",
   "metadata": {},
   "outputs": [
    {
     "data": {
      "image/png": "[encoded data removed]",
      "text/plain": [
       "<Figure size 800x500 with 1 Axes>"
      ]
     },
     "metadata": {},
     "output_type": "display_data"
    }
   ],
   "source": [
    "#Create box plot\n",
    "plt.figure(figsize=(8,5))\n",
    "sns.boxplot(x=titanic['age'])\n",
    "#Add titles and labels\n",
    "plt.title('Box Plot of Passenger Age',fontsize=14)\n",
    "plt.xlabel('Age')\n",
    "plt.show()"
   ]
  },
  {
   "cell_type": "code",
   "execution_count": 159,
   "id": "1e5b1740",
   "metadata": {},
   "outputs": [],
   "source": [
    "#Select all numeric columns\n",
    "numeric_cols = titanic.select_dtypes(include = ['float64','int64']).columns"
   ]
  },
  {
   "cell_type": "code",
   "execution_count": 160,
   "id": "5598e47d",
   "metadata": {},
   "outputs": [
    {
     "data": {
      "text/plain": [
       "Index(['survived', 'pclass', 'age', 'sibsp', 'parch', 'fare'], dtype='object')"
      ]
     },
     "execution_count": 160,
     "metadata": {},
     "output_type": "execute_result"
    }
   ],
   "source": [
    "numeric_cols"
   ]
  },
  {
   "cell_type": "code",
   "execution_count": 161,
   "id": "d5cf853b",
   "metadata": {},
   "outputs": [],
   "source": [
    "sns.set_theme(style='whitegrid')"
   ]
  },
  {
   "cell_type": "code",
   "execution_count": 162,
   "id": "f255242d",
   "metadata": {},
   "outputs": [
    {
     "data": {
      "image/png": "[encoded data removed]",
      "text/plain": [
       "<Figure size 600x150 with 1 Axes>"
      ]
     },
     "metadata": {},
     "output_type": "display_data"
    },
    {
     "data": {
      "image/png": "[encoded data removed]",
      "text/plain": [
       "<Figure size 600x150 with 1 Axes>"
      ]
     },
     "metadata": {},
     "output_type": "display_data"
    },
    {
     "data": {
      "image/png": "[encoded data removed]",
      "text/plain": [
       "<Figure size 600x150 with 1 Axes>"
      ]
     },
     "metadata": {},
     "output_type": "display_data"
    },
    {
     "data": {
      "image/png": "[encoded data removed]",
      "text/plain": [
       "<Figure size 600x150 with 1 Axes>"
      ]
     },
     "metadata": {},
     "output_type": "display_data"
    },
    {
     "data": {
      "image/png": "[encoded data removed]",
      "text/plain": [
       "<Figure size 600x150 with 1 Axes>"
      ]
     },
     "metadata": {},
     "output_type": "display_data"
    },
    {
     "data": {
      "image/png": "[encoded data removed]",
      "text/plain": [
       "<Figure size 600x150 with 1 Axes>"
      ]
     },
     "metadata": {},
     "output_type": "display_data"
    }
   ],
   "source": [
    "#Plot box plots for each numeric column\n",
    "for col in numeric_cols:\n",
    "    plt.figure(figsize=(6,1.5))\n",
    "    sns.boxplot(x=titanic[col],orient='h')\n",
    "    plt.title(f'Box Plot of {col}')\n",
    "    plt.xlabel(col)\n",
    "    plt.tight_layout()\n",
    "    plt.show()"
   ]
  },
  {
   "cell_type": "code",
   "execution_count": 163,
   "id": "7621f9ce",
   "metadata": {},
   "outputs": [
    {
     "name": "stdout",
     "output_type": "stream",
     "text": [
      "Requirement already satisfied: scikit-learn in c:\\users\\william.bai\\onedrive - incedo technology solutions ltd\\documents\\training\\myenv\\lib\\site-packages (1.7.1)\n",
      "Requirement already satisfied: numpy>=1.22.0 in c:\\users\\william.bai\\onedrive - incedo technology solutions ltd\\documents\\training\\myenv\\lib\\site-packages (from scikit-learn) (2.3.2)\n",
      "Requirement already satisfied: scipy>=1.8.0 in c:\\users\\william.bai\\onedrive - incedo technology solutions ltd\\documents\\training\\myenv\\lib\\site-packages (from scikit-learn) (1.16.1)\n",
      "Requirement already satisfied: joblib>=1.2.0 in c:\\users\\william.bai\\onedrive - incedo technology solutions ltd\\documents\\training\\myenv\\lib\\site-packages (from scikit-learn) (1.5.2)\n",
      "Requirement already satisfied: threadpoolctl>=3.1.0 in c:\\users\\william.bai\\onedrive - incedo technology solutions ltd\\documents\\training\\myenv\\lib\\site-packages (from scikit-learn) (3.6.0)\n",
      "Note: you may need to restart the kernel to use updated packages.\n"
     ]
    },
    {
     "name": "stderr",
     "output_type": "stream",
     "text": [
      "\n",
      "[notice] A new release of pip is available: 25.1.1 -> 25.2\n",
      "[notice] To update, run: python.exe -m pip install --upgrade pip\n"
     ]
    }
   ],
   "source": [
    "pip install scikit-learn"
   ]
  },
  {
   "cell_type": "code",
   "execution_count": 164,
   "id": "1037442c",
   "metadata": {},
   "outputs": [],
   "source": [
    "import seaborn as sns"
   ]
  },
  {
   "cell_type": "code",
   "execution_count": 165,
   "id": "d9fc48f8",
   "metadata": {},
   "outputs": [],
   "source": [
    "titanic = sns.load_dataset('titanic')"
   ]
  },
  {
   "cell_type": "code",
   "execution_count": 166,
   "id": "5d01723f",
   "metadata": {},
   "outputs": [
    {
     "name": "stdout",
     "output_type": "stream",
     "text": [
      "sex\n",
      "male      577\n",
      "female    314\n",
      "Name: count, dtype: int64\n",
      "sex\n",
      "male      0.647587\n",
      "female    0.352413\n",
      "Name: proportion, dtype: float64\n",
      "male\n"
     ]
    }
   ],
   "source": [
    "#Count of male and female passengers\n",
    "print(titanic['sex'].value_counts())\n",
    "print(titanic['sex'].value_counts(normalize=True))\n",
    "print(titanic['sex'].mode()[0])"
   ]
  },
  {
   "cell_type": "code",
   "execution_count": 167,
   "id": "bb3fcdad",
   "metadata": {},
   "outputs": [
    {
     "data": {
      "image/png": "[encoded data removed]",
      "text/plain": [
       "<Figure size 640x480 with 1 Axes>"
      ]
     },
     "metadata": {},
     "output_type": "display_data"
    }
   ],
   "source": [
    "#Countplot (Categorical)\n",
    "sns.countplot(data=titanic,x='sex')\n",
    "plt.title('Count of passengers by Sex')\n",
    "plt.xlabel('Sex')\n",
    "plt.ylabel('Count')\n",
    "plt.grid(axis='y')\n",
    "plt.show()"
   ]
  },
  {
   "cell_type": "code",
   "execution_count": 168,
   "id": "31f96db4",
   "metadata": {},
   "outputs": [
    {
     "data": {
      "text/plain": [
       "<Axes: xlabel='age', ylabel='Count'>"
      ]
     },
     "execution_count": 168,
     "metadata": {},
     "output_type": "execute_result"
    },
    {
     "data": {
      "image/png": "[encoded data removed]",
      "text/plain": [
       "<Figure size 640x480 with 1 Axes>"
      ]
     },
     "metadata": {},
     "output_type": "display_data"
    }
   ],
   "source": [
    "sns.histplot(titanic['age'],bins=30,kde=True)"
   ]
  },
  {
   "cell_type": "code",
   "execution_count": 169,
   "id": "7281fe71",
   "metadata": {},
   "outputs": [],
   "source": [
    "#Blank"
   ]
  },
  {
   "cell_type": "code",
   "execution_count": 170,
   "id": "a959c059",
   "metadata": {},
   "outputs": [
    {
     "name": "stdout",
     "output_type": "stream",
     "text": [
      "      sex  sex_encoded\n",
      "0    male            1\n",
      "1  female            0\n",
      "2  female            0\n",
      "3  female            0\n",
      "4    male            1\n"
     ]
    }
   ],
   "source": [
    "titanic['sex_encoded'] =titanic['sex'].map({'female':0,'male':1})\n",
    "print(titanic[['sex','sex_encoded']].head())"
   ]
  },
  {
   "cell_type": "code",
   "execution_count": 171,
   "id": "8962b388",
   "metadata": {},
   "outputs": [],
   "source": [
    "from sklearn.preprocessing import LabelEncoder"
   ]
  },
  {
   "cell_type": "code",
   "execution_count": 172,
   "id": "e37fab9f",
   "metadata": {},
   "outputs": [],
   "source": [
    "le = LabelEncoder()"
   ]
  },
  {
   "cell_type": "code",
   "execution_count": 173,
   "id": "ffda03cd",
   "metadata": {},
   "outputs": [
    {
     "name": "stdout",
     "output_type": "stream",
     "text": [
      "    class  class_encoded\n",
      "0   Third              2\n",
      "1   First              0\n",
      "2   Third              2\n",
      "3   First              0\n",
      "4   Third              2\n",
      "5   Third              2\n",
      "6   First              0\n",
      "7   Third              2\n",
      "8   Third              2\n",
      "9  Second              1\n"
     ]
    }
   ],
   "source": [
    "titanic['class_encoded'] = le.fit_transform(titanic['class'])\n",
    "print(titanic[['class','class_encoded']].head(10))"
   ]
  },
  {
   "cell_type": "code",
   "execution_count": 174,
   "id": "760f2969",
   "metadata": {},
   "outputs": [],
   "source": [
    "from sklearn.preprocessing import OrdinalEncoder"
   ]
  },
  {
   "cell_type": "code",
   "execution_count": 175,
   "id": "9d2c012f",
   "metadata": {},
   "outputs": [],
   "source": [
    "titanic = pd.DataFrame({'class':['Third','First','Second','Third','First']})"
   ]
  },
  {
   "cell_type": "code",
   "execution_count": 176,
   "id": "3bf00bdf",
   "metadata": {},
   "outputs": [
    {
     "data": {
      "text/html": [
       "<div>\n",
       "<style scoped>\n",
       "    .dataframe tbody tr th:only-of-type {\n",
       "        vertical-align: middle;\n",
       "    }\n",
       "\n",
       "    .dataframe tbody tr th {\n",
       "        vertical-align: top;\n",
       "    }\n",
       "\n",
       "    .dataframe thead th {\n",
       "        text-align: right;\n",
       "    }\n",
       "</style>\n",
       "<table border=\"1\" class=\"dataframe\">\n",
       "  <thead>\n",
       "    <tr style=\"text-align: right;\">\n",
       "      <th></th>\n",
       "      <th>class</th>\n",
       "    </tr>\n",
       "  </thead>\n",
       "  <tbody>\n",
       "    <tr>\n",
       "      <th>0</th>\n",
       "      <td>Third</td>\n",
       "    </tr>\n",
       "    <tr>\n",
       "      <th>1</th>\n",
       "      <td>First</td>\n",
       "    </tr>\n",
       "    <tr>\n",
       "      <th>2</th>\n",
       "      <td>Second</td>\n",
       "    </tr>\n",
       "    <tr>\n",
       "      <th>3</th>\n",
       "      <td>Third</td>\n",
       "    </tr>\n",
       "    <tr>\n",
       "      <th>4</th>\n",
       "      <td>First</td>\n",
       "    </tr>\n",
       "  </tbody>\n",
       "</table>\n",
       "</div>"
      ],
      "text/plain": [
       "    class\n",
       "0   Third\n",
       "1   First\n",
       "2  Second\n",
       "3   Third\n",
       "4   First"
      ]
     },
     "execution_count": 176,
     "metadata": {},
     "output_type": "execute_result"
    }
   ],
   "source": [
    "titanic"
   ]
  },
  {
   "cell_type": "code",
   "execution_count": 177,
   "id": "1ffb2074",
   "metadata": {},
   "outputs": [],
   "source": [
    "encoder = OrdinalEncoder(categories = [['Third','Second','First']])"
   ]
  },
  {
   "cell_type": "code",
   "execution_count": 178,
   "id": "78ce85db",
   "metadata": {},
   "outputs": [],
   "source": [
    "#Fit and transform\n",
    "titanic['class_encoded']  = encoder.fit_transform(titanic[['class']])"
   ]
  },
  {
   "cell_type": "code",
   "execution_count": 179,
   "id": "a6d54cef",
   "metadata": {},
   "outputs": [],
   "source": [
    "titanic['class_encoded'] = titanic['class_encoded'].astype(int)"
   ]
  },
  {
   "cell_type": "code",
   "execution_count": 180,
   "id": "d9f900ae",
   "metadata": {},
   "outputs": [
    {
     "name": "stdout",
     "output_type": "stream",
     "text": [
      "    class  class_encoded\n",
      "0   Third              0\n",
      "1   First              2\n",
      "2  Second              1\n",
      "3   Third              0\n",
      "4   First              2\n"
     ]
    }
   ],
   "source": [
    "print(titanic)"
   ]
  },
  {
   "cell_type": "code",
   "execution_count": 181,
   "id": "6855e251",
   "metadata": {},
   "outputs": [],
   "source": [
    "titanic = sns.load_dataset('titanic')"
   ]
  },
  {
   "cell_type": "code",
   "execution_count": 182,
   "id": "71f17b40",
   "metadata": {},
   "outputs": [],
   "source": [
    "#One-hot encode 'sex' and 'embarked'\n",
    "titanic_encoded = pd.get_dummies(titanic,columns=['sex','embarked'],drop_first = True)"
   ]
  },
  {
   "cell_type": "code",
   "execution_count": 183,
   "id": "28bf49db",
   "metadata": {},
   "outputs": [
    {
     "data": {
      "text/html": [
       "<div>\n",
       "<style scoped>\n",
       "    .dataframe tbody tr th:only-of-type {\n",
       "        vertical-align: middle;\n",
       "    }\n",
       "\n",
       "    .dataframe tbody tr th {\n",
       "        vertical-align: top;\n",
       "    }\n",
       "\n",
       "    .dataframe thead th {\n",
       "        text-align: right;\n",
       "    }\n",
       "</style>\n",
       "<table border=\"1\" class=\"dataframe\">\n",
       "  <thead>\n",
       "    <tr style=\"text-align: right;\">\n",
       "      <th></th>\n",
       "      <th>survived</th>\n",
       "      <th>pclass</th>\n",
       "      <th>age</th>\n",
       "      <th>sibsp</th>\n",
       "      <th>parch</th>\n",
       "      <th>fare</th>\n",
       "      <th>class</th>\n",
       "      <th>who</th>\n",
       "      <th>adult_male</th>\n",
       "      <th>deck</th>\n",
       "      <th>embark_town</th>\n",
       "      <th>alive</th>\n",
       "      <th>alone</th>\n",
       "      <th>sex_male</th>\n",
       "      <th>embarked_Q</th>\n",
       "      <th>embarked_S</th>\n",
       "    </tr>\n",
       "  </thead>\n",
       "  <tbody>\n",
       "    <tr>\n",
       "      <th>0</th>\n",
       "      <td>0</td>\n",
       "      <td>3</td>\n",
       "      <td>22.0</td>\n",
       "      <td>1</td>\n",
       "      <td>0</td>\n",
       "      <td>7.2500</td>\n",
       "      <td>Third</td>\n",
       "      <td>man</td>\n",
       "      <td>True</td>\n",
       "      <td>NaN</td>\n",
       "      <td>Southampton</td>\n",
       "      <td>no</td>\n",
       "      <td>False</td>\n",
       "      <td>True</td>\n",
       "      <td>False</td>\n",
       "      <td>True</td>\n",
       "    </tr>\n",
       "    <tr>\n",
       "      <th>1</th>\n",
       "      <td>1</td>\n",
       "      <td>1</td>\n",
       "      <td>38.0</td>\n",
       "      <td>1</td>\n",
       "      <td>0</td>\n",
       "      <td>71.2833</td>\n",
       "      <td>First</td>\n",
       "      <td>woman</td>\n",
       "      <td>False</td>\n",
       "      <td>C</td>\n",
       "      <td>Cherbourg</td>\n",
       "      <td>yes</td>\n",
       "      <td>False</td>\n",
       "      <td>False</td>\n",
       "      <td>False</td>\n",
       "      <td>False</td>\n",
       "    </tr>\n",
       "    <tr>\n",
       "      <th>2</th>\n",
       "      <td>1</td>\n",
       "      <td>3</td>\n",
       "      <td>26.0</td>\n",
       "      <td>0</td>\n",
       "      <td>0</td>\n",
       "      <td>7.9250</td>\n",
       "      <td>Third</td>\n",
       "      <td>woman</td>\n",
       "      <td>False</td>\n",
       "      <td>NaN</td>\n",
       "      <td>Southampton</td>\n",
       "      <td>yes</td>\n",
       "      <td>True</td>\n",
       "      <td>False</td>\n",
       "      <td>False</td>\n",
       "      <td>True</td>\n",
       "    </tr>\n",
       "    <tr>\n",
       "      <th>3</th>\n",
       "      <td>1</td>\n",
       "      <td>1</td>\n",
       "      <td>35.0</td>\n",
       "      <td>1</td>\n",
       "      <td>0</td>\n",
       "      <td>53.1000</td>\n",
       "      <td>First</td>\n",
       "      <td>woman</td>\n",
       "      <td>False</td>\n",
       "      <td>C</td>\n",
       "      <td>Southampton</td>\n",
       "      <td>yes</td>\n",
       "      <td>False</td>\n",
       "      <td>False</td>\n",
       "      <td>False</td>\n",
       "      <td>True</td>\n",
       "    </tr>\n",
       "    <tr>\n",
       "      <th>4</th>\n",
       "      <td>0</td>\n",
       "      <td>3</td>\n",
       "      <td>35.0</td>\n",
       "      <td>0</td>\n",
       "      <td>0</td>\n",
       "      <td>8.0500</td>\n",
       "      <td>Third</td>\n",
       "      <td>man</td>\n",
       "      <td>True</td>\n",
       "      <td>NaN</td>\n",
       "      <td>Southampton</td>\n",
       "      <td>no</td>\n",
       "      <td>True</td>\n",
       "      <td>True</td>\n",
       "      <td>False</td>\n",
       "      <td>True</td>\n",
       "    </tr>\n",
       "  </tbody>\n",
       "</table>\n",
       "</div>"
      ],
      "text/plain": [
       "   survived  pclass   age  sibsp  parch     fare  class    who  adult_male  \\\n",
       "0         0       3  22.0      1      0   7.2500  Third    man        True   \n",
       "1         1       1  38.0      1      0  71.2833  First  woman       False   \n",
       "2         1       3  26.0      0      0   7.9250  Third  woman       False   \n",
       "3         1       1  35.0      1      0  53.1000  First  woman       False   \n",
       "4         0       3  35.0      0      0   8.0500  Third    man        True   \n",
       "\n",
       "  deck  embark_town alive  alone  sex_male  embarked_Q  embarked_S  \n",
       "0  NaN  Southampton    no  False      True       False        True  \n",
       "1    C    Cherbourg   yes  False     False       False       False  \n",
       "2  NaN  Southampton   yes   True     False       False        True  \n",
       "3    C  Southampton   yes  False     False       False        True  \n",
       "4  NaN  Southampton    no   True      True       False        True  "
      ]
     },
     "execution_count": 183,
     "metadata": {},
     "output_type": "execute_result"
    }
   ],
   "source": [
    "titanic_encoded.head()"
   ]
  },
  {
   "cell_type": "code",
   "execution_count": 184,
   "id": "52d08606",
   "metadata": {},
   "outputs": [],
   "source": [
    "titanic = sns.load_dataset('titanic')"
   ]
  },
  {
   "cell_type": "code",
   "execution_count": 185,
   "id": "dab13467",
   "metadata": {},
   "outputs": [],
   "source": [
    "from sklearn.preprocessing import OneHotEncoder"
   ]
  },
  {
   "cell_type": "code",
   "execution_count": 186,
   "id": "9d6ee10e",
   "metadata": {},
   "outputs": [],
   "source": [
    "cols_to_encode = ['sex','embarked']"
   ]
  },
  {
   "cell_type": "code",
   "execution_count": 187,
   "id": "92b828fe",
   "metadata": {},
   "outputs": [],
   "source": [
    "#Initialize the encoder\n",
    "ohe = OneHotEncoder(drop='first',sparse_output = False)"
   ]
  },
  {
   "cell_type": "code",
   "execution_count": 188,
   "id": "1875870d",
   "metadata": {},
   "outputs": [],
   "source": [
    "encoded_data = ohe.fit_transform(titanic[cols_to_encode])"
   ]
  },
  {
   "cell_type": "code",
   "execution_count": 189,
   "id": "380340cd",
   "metadata": {},
   "outputs": [],
   "source": [
    "#Create a new DataFrame with the encoded column names\n",
    "encoded_df = pd.DataFrame(encoded_data,columns=ohe.get_feature_names_out(cols_to_encode))\n",
    "#gives meaningful column names based on categories encoded"
   ]
  },
  {
   "cell_type": "code",
   "execution_count": 190,
   "id": "5bbfffc9",
   "metadata": {},
   "outputs": [],
   "source": [
    "#Join the original DataFrame (excluded the original categorical columns)\n",
    "titanic_encoded = pd.concat([titanic.drop(columns=cols_to_encode),encoded_df],axis=1)"
   ]
  },
  {
   "cell_type": "code",
   "execution_count": 191,
   "id": "c863d854",
   "metadata": {},
   "outputs": [
    {
     "name": "stdout",
     "output_type": "stream",
     "text": [
      "   survived  pclass   age  sibsp  parch     fare  class    who  adult_male  \\\n",
      "0         0       3  22.0      1      0   7.2500  Third    man        True   \n",
      "1         1       1  38.0      1      0  71.2833  First  woman       False   \n",
      "2         1       3  26.0      0      0   7.9250  Third  woman       False   \n",
      "3         1       1  35.0      1      0  53.1000  First  woman       False   \n",
      "4         0       3  35.0      0      0   8.0500  Third    man        True   \n",
      "\n",
      "  deck  embark_town alive  alone  sex_male  embarked_Q  embarked_S  \\\n",
      "0  NaN  Southampton    no  False       1.0         0.0         1.0   \n",
      "1    C    Cherbourg   yes  False       0.0         0.0         0.0   \n",
      "2  NaN  Southampton   yes   True       0.0         0.0         1.0   \n",
      "3    C  Southampton   yes  False       0.0         0.0         1.0   \n",
      "4  NaN  Southampton    no   True       1.0         0.0         1.0   \n",
      "\n",
      "   embarked_nan  \n",
      "0           0.0  \n",
      "1           0.0  \n",
      "2           0.0  \n",
      "3           0.0  \n",
      "4           0.0  \n"
     ]
    }
   ],
   "source": [
    "#Show the encoded DataFrame\n",
    "print(titanic_encoded.head())"
   ]
  },
  {
   "cell_type": "code",
   "execution_count": 192,
   "id": "71f627d7",
   "metadata": {},
   "outputs": [],
   "source": [
    "from sklearn.preprocessing import StandardScaler, MinMaxScaler"
   ]
  },
  {
   "cell_type": "code",
   "execution_count": 193,
   "id": "0cfa1fa5",
   "metadata": {},
   "outputs": [],
   "source": [
    "titanic = sns.load_dataset('titanic')"
   ]
  },
  {
   "cell_type": "code",
   "execution_count": 194,
   "id": "e7d52a77",
   "metadata": {},
   "outputs": [
    {
     "name": "stdout",
     "output_type": "stream",
     "text": [
      "age     0.0\n",
      "fare    0.0\n",
      "dtype: float64\n",
      "age     1.001\n",
      "fare    1.001\n",
      "dtype: float64\n"
     ]
    }
   ],
   "source": [
    "#Standarization\n",
    "scaler = StandardScaler()\n",
    "titanic[['age','fare']] = scaler.fit_transform(titanic[['age','fare']])\n",
    "print(titanic[['age','fare']].mean().round(3))\n",
    "print(titanic[['age','fare']].std().round(3))"
   ]
  },
  {
   "cell_type": "code",
   "execution_count": 195,
   "id": "7f9df552",
   "metadata": {},
   "outputs": [],
   "source": [
    "titanic = sns.load_dataset('titanic')"
   ]
  },
  {
   "cell_type": "code",
   "execution_count": 196,
   "id": "0d52a6d8",
   "metadata": {},
   "outputs": [
    {
     "name": "stdout",
     "output_type": "stream",
     "text": [
      "age_norm     0.0\n",
      "fare_norm    0.0\n",
      "dtype: float64\n",
      "age_norm     1.0\n",
      "fare_norm    1.0\n",
      "dtype: float64\n"
     ]
    }
   ],
   "source": [
    "scaler = MinMaxScaler()\n",
    "titanic[['age_norm','fare_norm']] = scaler.fit_transform(titanic[['age','fare']])\n",
    "print(titanic[['age_norm','fare_norm']].min().round(3))\n",
    "print(titanic[['age_norm','fare_norm']].max().round(3))"
   ]
  },
  {
   "cell_type": "code",
   "execution_count": 197,
   "id": "6a65aa57",
   "metadata": {},
   "outputs": [],
   "source": [
    "titanic = sns.load_dataset('titanic')"
   ]
  },
  {
   "cell_type": "code",
   "execution_count": 198,
   "id": "7fc99980",
   "metadata": {},
   "outputs": [],
   "source": [
    "median_age = titanic['age'].median()\n",
    "titanic['age'] = titanic['age'].fillna(median_age)"
   ]
  },
  {
   "cell_type": "code",
   "execution_count": 199,
   "id": "48727546",
   "metadata": {},
   "outputs": [
    {
     "name": "stdout",
     "output_type": "stream",
     "text": [
      "28.0\n"
     ]
    }
   ],
   "source": [
    "print(median_age)"
   ]
  },
  {
   "cell_type": "code",
   "execution_count": 200,
   "id": "e4aac8ce",
   "metadata": {},
   "outputs": [],
   "source": [
    "count_before = titanic.shape[0]"
   ]
  },
  {
   "cell_type": "code",
   "execution_count": 201,
   "id": "dc3b5f81",
   "metadata": {},
   "outputs": [],
   "source": [
    "titanic = titanic.drop_duplicates()"
   ]
  },
  {
   "cell_type": "code",
   "execution_count": 202,
   "id": "b8f42fb5",
   "metadata": {},
   "outputs": [],
   "source": [
    "count_after = titanic.shape[0]"
   ]
  },
  {
   "cell_type": "code",
   "execution_count": 203,
   "id": "2cfc3851",
   "metadata": {},
   "outputs": [
    {
     "name": "stdout",
     "output_type": "stream",
     "text": [
      "Removed 110 duplicate rows\n"
     ]
    }
   ],
   "source": [
    "print(f\"Removed {count_before-count_after} duplicate rows\")"
   ]
  },
  {
   "cell_type": "code",
   "execution_count": 204,
   "id": "b24582cc",
   "metadata": {},
   "outputs": [],
   "source": [
    "#IQR Method (Boxplot)"
   ]
  },
  {
   "cell_type": "code",
   "execution_count": 206,
   "id": "56411d0e",
   "metadata": {},
   "outputs": [],
   "source": [
    "Q1 = titanic['age'].quantile(0.25)\n",
    "Q3 = titanic['age'].quantile(0.75)"
   ]
  },
  {
   "cell_type": "code",
   "execution_count": 207,
   "id": "cfe89e69",
   "metadata": {},
   "outputs": [],
   "source": [
    "IQR = Q3-Q1"
   ]
  },
  {
   "cell_type": "code",
   "execution_count": 210,
   "id": "6361505a",
   "metadata": {},
   "outputs": [],
   "source": [
    "lower_fence = Q1-1.5*IQR"
   ]
  },
  {
   "cell_type": "code",
   "execution_count": 211,
   "id": "d9aecdef",
   "metadata": {},
   "outputs": [],
   "source": [
    "upper_fence = Q3+1.5*IQR"
   ]
  },
  {
   "cell_type": "code",
   "execution_count": 212,
   "id": "b88451c0",
   "metadata": {},
   "outputs": [],
   "source": [
    "outliers = titanic[(titanic['age']<lower_fence)|(titanic['age']>upper_fence)]"
   ]
  },
  {
   "cell_type": "code",
   "execution_count": 213,
   "id": "da313f51",
   "metadata": {},
   "outputs": [],
   "source": [
    "titanic_clean = titanic[(titanic['age']>=lower_fence)|(titanic['age']<=upper_fence)]"
   ]
  },
  {
   "cell_type": "code",
   "execution_count": 216,
   "id": "9903816f",
   "metadata": {},
   "outputs": [
    {
     "name": "stdout",
     "output_type": "stream",
     "text": [
      "       age      fare  survived\n",
      "11   58.00   26.5500         1\n",
      "33   66.00   10.5000         0\n",
      "54   65.00   61.9792         0\n",
      "78    0.83   29.0000         1\n",
      "94   59.00    7.2500         0\n",
      "96   71.00   34.6542         0\n",
      "116  70.50    7.7500         0\n",
      "170  61.00   33.5000         0\n",
      "195  58.00  146.5208         1\n",
      "232  59.00   13.5000         0\n",
      "252  62.00   26.5500         0\n",
      "268  58.00  153.4625         1\n",
      "275  63.00   77.9583         1\n",
      "280  65.00    7.7500         0\n",
      "305   0.92  151.5500         1\n",
      "326  61.00    6.2375         0\n",
      "366  60.00   75.2500         1\n",
      "438  64.00  263.0000         0\n",
      "456  65.00   26.5500         0\n",
      "469   0.75   19.2583         1\n",
      "483  63.00    9.5875         1\n",
      "487  58.00   29.7000         0\n",
      "493  71.00   49.5042         0\n",
      "545  64.00   26.0000         0\n",
      "555  62.00   26.5500         0\n",
      "570  62.00   10.5000         1\n",
      "587  60.00   79.2000         1\n",
      "625  61.00   32.3208         0\n",
      "630  80.00   30.0000         1\n",
      "659  58.00  113.2750         0\n",
      "672  70.00   10.5000         0\n",
      "684  60.00   39.0000         0\n",
      "694  60.00   26.5500         0\n",
      "745  70.00   71.0000         0\n",
      "755   0.67   14.5000         1\n",
      "803   0.42    8.5167         1\n",
      "829  62.00   80.0000         1\n",
      "831   0.83   18.7500         1\n",
      "851  74.00    7.7750         0\n"
     ]
    }
   ],
   "source": [
    "print(outliers[['age','fare','survived']])"
   ]
  },
  {
   "cell_type": "code",
   "execution_count": 217,
   "id": "4775a7c0",
   "metadata": {},
   "outputs": [
    {
     "data": {
      "text/plain": [
       "np.int64(39)"
      ]
     },
     "execution_count": 217,
     "metadata": {},
     "output_type": "execute_result"
    }
   ],
   "source": [
    "outliers['age'].count()"
   ]
  },
  {
   "cell_type": "code",
   "execution_count": 218,
   "id": "495706e9",
   "metadata": {},
   "outputs": [],
   "source": [
    "from scipy.stats import zscore"
   ]
  },
  {
   "cell_type": "code",
   "execution_count": 219,
   "id": "c5af1d35",
   "metadata": {},
   "outputs": [],
   "source": [
    "#Calculate Z-scores for the 'age' column"
   ]
  },
  {
   "cell_type": "code",
   "execution_count": 220,
   "id": "dd7c380f",
   "metadata": {},
   "outputs": [],
   "source": [
    "z_scores = zscore(titanic['age'].dropna()) #Drop NaNs before computing"
   ]
  },
  {
   "cell_type": "code",
   "execution_count": 222,
   "id": "eb6bac0f",
   "metadata": {},
   "outputs": [
    {
     "name": "stdout",
     "output_type": "stream",
     "text": [
      "[-0.55415069  0.60899034 -0.26336544  0.39090139  0.39090139 -0.11797281\n",
      "  1.77213137 -2.00807699 -0.19066912 -1.13572121 -1.86268436  2.06291663\n",
      " -0.69954332  0.68168665 -1.13572121  1.84482768 -2.00807699 -0.11797281\n",
      "  0.10011614 -0.11797281  0.39090139  0.31820508 -1.0630249  -0.11797281\n",
      " -1.5718991   0.60899034 -0.11797281 -0.77223964 -0.11797281 -0.11797281\n",
      "  0.75438297 -0.11797281 -0.11797281  2.64448714 -0.11797281  0.8997756\n",
      " -0.11797281 -0.62684701 -0.84493595 -1.13572121  0.75438297 -0.19066912\n",
      " -0.11797281 -1.93538067 -0.77223964 -0.11797281 -0.11797281 -0.11797281\n",
      " -0.84493595 -1.64459541 -0.62684701  1.4086498  -0.04527649  2.57179083\n",
      " -0.11797281 -0.62684701 -0.08162465 -1.78998804 -1.35381015 -0.55415069\n",
      "  0.60899034  1.11786454 -1.86268436 -0.11797281 -0.11797281 -0.04527649\n",
      " -0.77223964 -0.91763227 -0.26336544  0.17281245 -0.99032858 -0.62684701\n",
      " -0.26336544  0.17281245 -0.33606175 -2.09313167  0.02741982 -0.55415069\n",
      " -0.04527649 -0.11797281 -0.11797281 -0.91763227  0.24550876 -0.99032858\n",
      " -0.48145438 -0.40875807 -0.04527649 -0.69954332  1.19056085 -0.26336544\n",
      "  2.13561294  3.00796872 -0.48145438  0.31820508  0.31820508 -0.11797281\n",
      " -0.62684701  0.24550876  0.53629402 -0.62684701 -0.11797281  0.60899034\n",
      " -0.11797281  1.26325717 -1.09937305 -0.55415069 -0.69954332 -0.91763227\n",
      " -0.62684701  2.97162056 -0.04527649 -0.40875807 -2.00807699 -0.62684701\n",
      "  0.20916061  0.20916061  1.77213137 -1.28111384 -0.11797281 -0.40875807\n",
      " -0.11797281  1.11786454  0.24550876 -0.69954332  1.26325717 -0.33606175\n",
      " -0.48145438 -0.77223964  0.53629402 -0.99032858 -0.40875807 -0.11797281\n",
      " -0.55415069 -0.40875807 -0.77223964 -0.84493595 -0.77223964 -0.19066912\n",
      " -1.49920278  0.49994587  0.8997756   1.55404243 -0.55415069  1.88117584\n",
      "  0.79073112 -0.11797281  1.55404243 -0.99032858  0.02741982 -0.11797281\n",
      " -0.11797281  1.04516822  0.75438297 -0.26336544 -0.91763227 -2.0807733\n",
      " -1.49920278 -0.11797281  1.11786454 -0.11797281 -0.11797281  2.28100557\n",
      " -1.86268436 -2.0807733   1.917524   -0.84493595 -0.11797281  1.48134611\n",
      "  0.02741982  0.46359771 -0.11797281 -0.11797281 -1.49920278 -2.0807733\n",
      " -1.86268436 -0.11797281 -0.11797281  1.11786454  0.75438297  0.46359771\n",
      "  0.17281245 -0.77223964 -0.77223964 -1.93538067  1.04516822  2.06291663\n",
      "  0.8997756  -0.40875807 -0.11797281  0.31820508  1.1542127  -0.84493595\n",
      " -2.00807699  0.17281245 -0.26336544 -0.99032858  0.75438297 -0.40875807\n",
      "  0.39090139 -0.55415069 -0.11797281  0.10011614 -0.19066912  0.8997756\n",
      "  0.17281245  0.02741982 -0.99032858 -0.19066912  1.55404243  0.60899034\n",
      " -0.55415069 -0.77223964 -0.66319517 -0.84493595 -0.11797281  0.39090139\n",
      " -0.04527649  2.13561294 -1.78998804 -0.40875807 -0.11797281  1.04516822\n",
      " -1.5718991  -0.77223964  0.24550876 -0.11797281 -0.04527649 -0.55415069\n",
      "  0.02741982  1.04516822 -0.33606175 -0.40875807  0.53629402  1.77213137\n",
      " -0.11797281 -0.04527649  2.35370189  0.02741982  0.82707928 -0.04527649\n",
      " -0.11797281  0.02741982  0.39090139  1.48134611 -1.93538067  1.62673874\n",
      "  0.75438297 -0.11797281  0.46359771 -0.99032858 -0.33606175  2.06291663\n",
      "  0.39090139 -0.11797281 -0.33606175  0.82707928  0.53629402  2.4263982\n",
      "  1.11786454 -0.11797281 -1.64459541  0.39090139  2.57179083 -0.11797281\n",
      " -0.99032858 -0.77223964 -0.11797281  0.24550876  0.02741982 -0.55415069\n",
      "  0.8997756  -0.55415069 -0.26336544 -0.77223964  0.46359771 -0.40875807\n",
      " -0.40875807 -0.44510622 -2.00807699 -0.11797281  1.48134611 -0.11797281\n",
      " -0.77223964 -0.11797281 -2.08658901 -0.11797281 -0.91763227  0.02741982\n",
      "  0.02741982 -0.40875807 -0.84493595 -0.26336544  0.97247191 -0.26336544\n",
      " -0.40875807  1.77213137  0.10011614  0.75438297 -0.19066912  0.02741982\n",
      " -0.55415069  0.46359771  2.28100557  0.46359771  0.10011614 -0.99032858\n",
      " -0.11797281  1.1542127   0.60899034 -0.99032858 -0.11797281 -0.04527649\n",
      "  0.82707928  1.11786454  1.11786454 -2.00807699 -0.40875807 -0.11797281\n",
      "  0.46359771 -0.40875807  0.75438297 -0.11797281 -1.93538067  0.8997756\n",
      " -0.48145438 -0.11797281 -1.0630249  -0.33606175 -0.55415069  0.60899034\n",
      "  0.75438297 -0.04527649  1.11786454  0.39090139  0.02741982  2.20830926\n",
      " -0.11797281 -0.40875807 -0.33606175 -0.84493595 -0.77223964 -0.55415069\n",
      " -1.93538067 -0.11797281 -0.55415069 -0.19066912 -0.69954332 -0.77223964\n",
      "  0.8997756  -2.0807733   0.17281245  0.39090139 -0.84493595 -2.0807733\n",
      "  0.46359771 -0.11797281 -0.91763227  0.46359771 -0.62684701 -0.11797281\n",
      " -0.48145438 -0.40875807 -0.55415069  0.10011614  1.19056085 -0.48145438\n",
      " -0.11797281  0.68168665 -0.26336544 -0.62684701 -0.11797281 -0.69954332\n",
      "  0.31820508  1.55404243 -1.93538067 -0.62684701 -0.11797281  0.24550876\n",
      "  1.04516822 -0.11797281  0.31820508 -0.84493595 -1.42650647 -0.62684701\n",
      " -0.04527649 -0.11797281 -0.84493595 -0.11797281 -0.77223964  0.17281245\n",
      " -0.11797281  0.8997756  -0.91763227  1.48134611 -1.13572121 -0.62684701\n",
      " -0.40875807  2.49909451  0.10011614  1.11786454 -0.69954332 -0.33606175\n",
      " -0.11797281 -0.11797281 -1.86268436 -1.20841753  0.31820508 -1.78998804\n",
      "  1.62673874  0.46359771 -0.11797281  0.02741982  1.4086498  -0.04527649\n",
      "  2.57179083 -0.11797281  1.48134611  1.33595348  0.31820508  1.26325717\n",
      "  1.33595348  0.60899034  1.917524   -0.11797281 -2.09894738  0.60899034\n",
      "  0.24550876 -0.48145438 -0.55415069 -0.11797281 -0.04527649 -0.55415069\n",
      " -2.00807699 -1.49920278  1.48134611  2.4263982  -0.33606175  0.39090139\n",
      "  2.06291663 -1.49920278 -0.62684701  1.84482768  3.00796872 -0.11797281\n",
      "  1.77213137 -0.11797281 -0.33606175 -0.40875807 -0.62684701 -0.11797281\n",
      "  0.53629402 -0.99032858 -0.84493595  0.24550876 -0.11797281 -0.11797281\n",
      " -0.26336544 -0.04527649  0.46359771  1.77213137 -0.40875807  1.26325717\n",
      "  0.31820508 -0.11797281  0.46359771  0.17281245  0.02741982  1.04516822\n",
      " -0.11797281  0.79073112 -0.11797281  0.68168665 -0.48145438 -2.00807699\n",
      " -0.91763227 -0.11797281  0.02741982 -1.64459541  1.11786454  0.02741982\n",
      " -0.11797281 -0.55415069  0.46359771 -1.49920278 -1.35381015  0.17281245\n",
      "  1.48134611  2.49909451 -0.77223964 -0.11797281  0.24550876 -1.5718991\n",
      " -0.91763227 -0.19066912 -0.11797281 -0.55415069 -0.55415069  2.35370189\n",
      "  1.33595348 -0.11797281  0.68168665  0.46359771  0.75438297 -0.11797281\n",
      " -0.40875807 -0.77223964 -0.04527649  0.17281245  2.35370189  1.69943506\n",
      "  0.46359771 -0.99032858 -0.77223964  0.31820508  0.68168665 -0.11797281\n",
      "  0.17281245 -0.33606175  0.68168665  1.77213137  0.46359771 -0.11797281\n",
      " -0.84493595  1.26325717  2.20830926  0.39090139  1.62673874  1.26325717\n",
      " -0.11797281  0.53629402  0.46359771 -0.11797281  1.4086498   1.4086498\n",
      " -0.40875807 -0.11797281  1.04516822  0.39090139  0.46359771  0.02741982\n",
      " -0.19066912 -0.55415069  0.75438297  0.68168665 -0.11797281 -0.40875807\n",
      "  0.31820508 -0.26336544 -1.86268436 -0.26336544 -0.19066912  0.8997756\n",
      " -0.69954332 -0.62684701 -0.62684701  2.28100557  1.99022031 -0.62684701\n",
      " -0.26336544 -0.11797281  3.66223555  1.55404243  0.17281245 -0.11797281\n",
      " -1.49920278  0.10011614  0.82707928 -0.11797281 -2.00807699 -0.11797281\n",
      "  1.33595348  1.917524   -0.11797281 -0.48145438 -0.84493595 -0.62684701\n",
      " -0.11797281 -0.84493595 -0.40875807  0.17281245 -0.48145438  2.06291663\n",
      "  1.48134611  0.75438297  1.26325717  0.46359771 -0.69954332  0.17281245\n",
      " -0.11797281  0.97247191 -0.11797281  0.75438297  0.10011614  2.9352724\n",
      "  0.10011614 -0.84493595 -0.37240991 -0.84493595  0.97247191  0.46359771\n",
      " -0.11797281 -0.19066912 -0.69954332 -1.13572121  2.20830926 -0.33606175\n",
      " -1.13572121 -0.77223964 -0.84493595 -1.0630249   0.10011614 -1.86268436\n",
      " -0.33606175  2.20830926  1.62673874 -0.11797281  1.4086498   0.8997756\n",
      " -0.84493595  0.39090139 -0.84493595 -0.33606175 -0.26336544  0.68168665\n",
      "  1.11786454  0.8997756  -0.55415069 -0.40875807 -0.11797281  1.33595348\n",
      " -0.04527649  1.62673874 -0.77223964  0.60899034 -0.19066912 -0.11797281\n",
      "  0.24550876 -1.71729173 -0.91763227  0.31820508  1.48134611 -0.19066912\n",
      " -0.69954332  0.02741982 -0.11797281 -0.33606175 -0.33606175 -0.04527649\n",
      " -1.35381015 -0.08162465  1.33595348  0.39090139 -0.11797281  0.46359771\n",
      " -0.62684701 -0.40875807  0.10011614  2.9352724  -0.99032858  0.02741982\n",
      " -0.77223964  0.10011614 -1.86268436 -1.71729173  0.24550876 -0.48145438\n",
      "  1.33595348 -2.10476308 -0.11797281  0.24550876  0.82707928 -0.69954332\n",
      "  0.46359771 -0.99032858  1.55404243 -0.11797281  0.06376798 -0.11797281\n",
      "  0.17281245 -0.40875807  1.33595348  1.99022031  1.77213137 -0.84493595\n",
      " -0.11797281 -1.78998804 -0.11797281  0.97247191 -1.20841753 -0.91763227\n",
      " -0.04527649 -0.11797281 -0.33606175 -0.33606175 -0.84493595 -1.5718991\n",
      " -2.0807733   1.19056085 -0.99032858 -0.11797281 -0.33606175  0.68168665\n",
      "  1.4086498   0.10011614  0.02741982  0.02741982  0.10011614 -1.35381015\n",
      " -2.12293716 -0.19066912  0.10011614  0.68168665 -0.84493595  0.24550876\n",
      " -0.26336544  0.68168665  0.39090139 -1.71729173  0.06376798 -0.11797281\n",
      " -0.48145438  0.10011614  0.97247191 -1.42650647  1.62673874 -0.19066912\n",
      "  0.60899034 -0.19066912 -2.00807699 -0.11797281 -2.0807733  -0.11797281\n",
      "  2.35370189 -1.0630249  -2.09313167 -0.48145438 -0.84493595  0.68168665\n",
      " -0.62684701 -0.11797281 -0.69954332 -0.99032858  0.02741982  0.35455324\n",
      "  0.8997756   0.39090139 -0.11797281 -0.11797281 -1.86268436  3.22605766\n",
      " -1.49920278 -0.99032858  1.04516822 -0.84493595  1.11786454  1.55404243\n",
      " -0.40875807  0.82707928 -0.62684701  1.33595348 -0.40875807  0.8997756\n",
      " -0.19066912  0.10011614 -1.86268436  1.26325717  0.24550876  1.26325717\n",
      " -0.11797281 -1.0630249  -0.69954332  1.917524   -0.33606175  0.24550876\n",
      " -0.55415069 -0.11797281  0.68168665 -0.77223964 -0.11797281 -0.26336544\n",
      "  0.17281245]\n"
     ]
    }
   ],
   "source": [
    "print(z_scores)"
   ]
  },
  {
   "cell_type": "code",
   "execution_count": 221,
   "id": "e0e7f1c1",
   "metadata": {},
   "outputs": [],
   "source": [
    "#Create mask for absolute z-score < 3"
   ]
  },
  {
   "cell_type": "code",
   "execution_count": 223,
   "id": "e12fb275",
   "metadata": {},
   "outputs": [],
   "source": [
    "mask = abs(z_scores)<3"
   ]
  },
  {
   "cell_type": "code",
   "execution_count": 224,
   "id": "b9b8c9c7",
   "metadata": {},
   "outputs": [],
   "source": [
    "titanic_no_outliers= titanic[titanic['age'].notna()].copy()"
   ]
  },
  {
   "cell_type": "code",
   "execution_count": 225,
   "id": "946dbde1",
   "metadata": {},
   "outputs": [],
   "source": [
    "titanic_no_outliers = titanic_no_outliers[mask]"
   ]
  },
  {
   "cell_type": "code",
   "execution_count": 226,
   "id": "3a768333",
   "metadata": {},
   "outputs": [
    {
     "name": "stdout",
     "output_type": "stream",
     "text": [
      "     survived  pclass     sex   age  sibsp  parch     fare embarked  class  \\\n",
      "0           0       3    male  22.0      1      0   7.2500        S  Third   \n",
      "1           1       1  female  38.0      1      0  71.2833        C  First   \n",
      "2           1       3  female  26.0      0      0   7.9250        S  Third   \n",
      "3           1       1  female  35.0      1      0  53.1000        S  First   \n",
      "4           0       3    male  35.0      0      0   8.0500        S  Third   \n",
      "..        ...     ...     ...   ...    ...    ...      ...      ...    ...   \n",
      "885         0       3  female  39.0      0      5  29.1250        Q  Third   \n",
      "887         1       1  female  19.0      0      0  30.0000        S  First   \n",
      "888         0       3  female  28.0      1      2  23.4500        S  Third   \n",
      "889         1       1    male  26.0      0      0  30.0000        C  First   \n",
      "890         0       3    male  32.0      0      0   7.7500        Q  Third   \n",
      "\n",
      "       who  adult_male deck  embark_town alive  alone  \n",
      "0      man        True  NaN  Southampton    no  False  \n",
      "1    woman       False    C    Cherbourg   yes  False  \n",
      "2    woman       False  NaN  Southampton   yes   True  \n",
      "3    woman       False    C  Southampton   yes  False  \n",
      "4      man        True  NaN  Southampton    no   True  \n",
      "..     ...         ...  ...          ...   ...    ...  \n",
      "885  woman       False  NaN   Queenstown    no  False  \n",
      "887  woman       False    B  Southampton   yes   True  \n",
      "888  woman       False  NaN  Southampton    no  False  \n",
      "889    man        True    C    Cherbourg   yes   True  \n",
      "890    man        True  NaN   Queenstown    no   True  \n",
      "\n",
      "[777 rows x 15 columns]\n"
     ]
    }
   ],
   "source": [
    "print(titanic_no_outliers)"
   ]
  },
  {
   "cell_type": "code",
   "execution_count": 227,
   "id": "ec9a757a",
   "metadata": {},
   "outputs": [],
   "source": [
    "#Numeric vs Numeric"
   ]
  },
  {
   "cell_type": "code",
   "execution_count": 228,
   "id": "d19dbf98",
   "metadata": {},
   "outputs": [],
   "source": [
    "import matplotlib.pyplot as plt"
   ]
  },
  {
   "cell_type": "code",
   "execution_count": 230,
   "id": "cb995405",
   "metadata": {},
   "outputs": [
    {
     "data": {
      "image/png": "[encoded data removed]",
      "text/plain": [
       "<Figure size 600x400 with 1 Axes>"
      ]
     },
     "metadata": {},
     "output_type": "display_data"
    }
   ],
   "source": [
    "plt.figure(figsize=(6,4))\n",
    "plt.scatter(titanic['age'],titanic['fare'],alpha=0.6)\n",
    "plt.xlabel('Age')\n",
    "plt.ylabel('Fare')\n",
    "plt.title('Age vs Fare')\n",
    "plt.grid(True)\n",
    "plt.show()"
   ]
  },
  {
   "cell_type": "code",
   "execution_count": 232,
   "id": "56d09472",
   "metadata": {},
   "outputs": [
    {
     "data": {
      "text/html": [
       "<div>\n",
       "<style scoped>\n",
       "    .dataframe tbody tr th:only-of-type {\n",
       "        vertical-align: middle;\n",
       "    }\n",
       "\n",
       "    .dataframe tbody tr th {\n",
       "        vertical-align: top;\n",
       "    }\n",
       "\n",
       "    .dataframe thead th {\n",
       "        text-align: right;\n",
       "    }\n",
       "</style>\n",
       "<table border=\"1\" class=\"dataframe\">\n",
       "  <thead>\n",
       "    <tr style=\"text-align: right;\">\n",
       "      <th></th>\n",
       "      <th>age</th>\n",
       "      <th>fare</th>\n",
       "    </tr>\n",
       "  </thead>\n",
       "  <tbody>\n",
       "    <tr>\n",
       "      <th>age</th>\n",
       "      <td>1.000000</td>\n",
       "      <td>0.091575</td>\n",
       "    </tr>\n",
       "    <tr>\n",
       "      <th>fare</th>\n",
       "      <td>0.091575</td>\n",
       "      <td>1.000000</td>\n",
       "    </tr>\n",
       "  </tbody>\n",
       "</table>\n",
       "</div>"
      ],
      "text/plain": [
       "           age      fare\n",
       "age   1.000000  0.091575\n",
       "fare  0.091575  1.000000"
      ]
     },
     "execution_count": 232,
     "metadata": {},
     "output_type": "execute_result"
    }
   ],
   "source": [
    "#Correlation between just two columns\n",
    "titanic[['age','fare']].corr()"
   ]
  },
  {
   "cell_type": "code",
   "execution_count": 233,
   "id": "2836d7bb",
   "metadata": {},
   "outputs": [
    {
     "data": {
      "text/html": [
       "<div>\n",
       "<style scoped>\n",
       "    .dataframe tbody tr th:only-of-type {\n",
       "        vertical-align: middle;\n",
       "    }\n",
       "\n",
       "    .dataframe tbody tr th {\n",
       "        vertical-align: top;\n",
       "    }\n",
       "\n",
       "    .dataframe thead th {\n",
       "        text-align: right;\n",
       "    }\n",
       "</style>\n",
       "<table border=\"1\" class=\"dataframe\">\n",
       "  <thead>\n",
       "    <tr style=\"text-align: right;\">\n",
       "      <th></th>\n",
       "      <th>survived</th>\n",
       "      <th>pclass</th>\n",
       "      <th>age</th>\n",
       "      <th>sibsp</th>\n",
       "      <th>parch</th>\n",
       "      <th>fare</th>\n",
       "      <th>adult_male</th>\n",
       "      <th>alone</th>\n",
       "    </tr>\n",
       "  </thead>\n",
       "  <tbody>\n",
       "    <tr>\n",
       "      <th>survived</th>\n",
       "      <td>1.000000</td>\n",
       "      <td>-0.330755</td>\n",
       "      <td>-0.079430</td>\n",
       "      <td>-0.038368</td>\n",
       "      <td>0.068834</td>\n",
       "      <td>0.246585</td>\n",
       "      <td>-0.527196</td>\n",
       "      <td>-0.174285</td>\n",
       "    </tr>\n",
       "    <tr>\n",
       "      <th>pclass</th>\n",
       "      <td>-0.330755</td>\n",
       "      <td>1.000000</td>\n",
       "      <td>-0.343458</td>\n",
       "      <td>0.090002</td>\n",
       "      <td>0.042070</td>\n",
       "      <td>-0.549622</td>\n",
       "      <td>0.064082</td>\n",
       "      <td>0.106902</td>\n",
       "    </tr>\n",
       "    <tr>\n",
       "      <th>age</th>\n",
       "      <td>-0.079430</td>\n",
       "      <td>-0.343458</td>\n",
       "      <td>1.000000</td>\n",
       "      <td>-0.279579</td>\n",
       "      <td>-0.183348</td>\n",
       "      <td>0.091575</td>\n",
       "      <td>0.273941</td>\n",
       "      <td>0.191642</td>\n",
       "    </tr>\n",
       "    <tr>\n",
       "      <th>sibsp</th>\n",
       "      <td>-0.038368</td>\n",
       "      <td>0.090002</td>\n",
       "      <td>-0.279579</td>\n",
       "      <td>1.000000</td>\n",
       "      <td>0.380806</td>\n",
       "      <td>0.134884</td>\n",
       "      <td>-0.273305</td>\n",
       "      <td>-0.608944</td>\n",
       "    </tr>\n",
       "    <tr>\n",
       "      <th>parch</th>\n",
       "      <td>0.068834</td>\n",
       "      <td>0.042070</td>\n",
       "      <td>-0.183348</td>\n",
       "      <td>0.380806</td>\n",
       "      <td>1.000000</td>\n",
       "      <td>0.191747</td>\n",
       "      <td>-0.346200</td>\n",
       "      <td>-0.570526</td>\n",
       "    </tr>\n",
       "    <tr>\n",
       "      <th>fare</th>\n",
       "      <td>0.246585</td>\n",
       "      <td>-0.549622</td>\n",
       "      <td>0.091575</td>\n",
       "      <td>0.134884</td>\n",
       "      <td>0.191747</td>\n",
       "      <td>1.000000</td>\n",
       "      <td>-0.164875</td>\n",
       "      <td>-0.246437</td>\n",
       "    </tr>\n",
       "    <tr>\n",
       "      <th>adult_male</th>\n",
       "      <td>-0.527196</td>\n",
       "      <td>0.064082</td>\n",
       "      <td>0.273941</td>\n",
       "      <td>-0.273305</td>\n",
       "      <td>-0.346200</td>\n",
       "      <td>-0.164875</td>\n",
       "      <td>1.000000</td>\n",
       "      <td>0.386086</td>\n",
       "    </tr>\n",
       "    <tr>\n",
       "      <th>alone</th>\n",
       "      <td>-0.174285</td>\n",
       "      <td>0.106902</td>\n",
       "      <td>0.191642</td>\n",
       "      <td>-0.608944</td>\n",
       "      <td>-0.570526</td>\n",
       "      <td>-0.246437</td>\n",
       "      <td>0.386086</td>\n",
       "      <td>1.000000</td>\n",
       "    </tr>\n",
       "  </tbody>\n",
       "</table>\n",
       "</div>"
      ],
      "text/plain": [
       "            survived    pclass       age     sibsp     parch      fare  \\\n",
       "survived    1.000000 -0.330755 -0.079430 -0.038368  0.068834  0.246585   \n",
       "pclass     -0.330755  1.000000 -0.343458  0.090002  0.042070 -0.549622   \n",
       "age        -0.079430 -0.343458  1.000000 -0.279579 -0.183348  0.091575   \n",
       "sibsp      -0.038368  0.090002 -0.279579  1.000000  0.380806  0.134884   \n",
       "parch       0.068834  0.042070 -0.183348  0.380806  1.000000  0.191747   \n",
       "fare        0.246585 -0.549622  0.091575  0.134884  0.191747  1.000000   \n",
       "adult_male -0.527196  0.064082  0.273941 -0.273305 -0.346200 -0.164875   \n",
       "alone      -0.174285  0.106902  0.191642 -0.608944 -0.570526 -0.246437   \n",
       "\n",
       "            adult_male     alone  \n",
       "survived     -0.527196 -0.174285  \n",
       "pclass        0.064082  0.106902  \n",
       "age           0.273941  0.191642  \n",
       "sibsp        -0.273305 -0.608944  \n",
       "parch        -0.346200 -0.570526  \n",
       "fare         -0.164875 -0.246437  \n",
       "adult_male    1.000000  0.386086  \n",
       "alone         0.386086  1.000000  "
      ]
     },
     "execution_count": 233,
     "metadata": {},
     "output_type": "execute_result"
    }
   ],
   "source": [
    "#Correlation matrix for all numeric columns\n",
    "titanic.corr(numeric_only =True)"
   ]
  },
  {
   "cell_type": "code",
   "execution_count": 237,
   "id": "0c0d4cf4",
   "metadata": {},
   "outputs": [],
   "source": [
    "titanic = sns.load_dataset('titanic')"
   ]
  },
  {
   "cell_type": "code",
   "execution_count": 238,
   "id": "96ed25b5",
   "metadata": {},
   "outputs": [
    {
     "data": {
      "text/plain": [
       "<Axes: xlabel='class', ylabel='fare'>"
      ]
     },
     "execution_count": 238,
     "metadata": {},
     "output_type": "execute_result"
    },
    {
     "data": {
      "image/png": "[encoded data removed]",
      "text/plain": [
       "<Figure size 640x480 with 1 Axes>"
      ]
     },
     "metadata": {},
     "output_type": "display_data"
    }
   ],
   "source": [
    "sns.boxplot(x='class',y='fare',data=titanic)"
   ]
  },
  {
   "cell_type": "code",
   "execution_count": 239,
   "id": "15aa189f",
   "metadata": {},
   "outputs": [
    {
     "data": {
      "text/plain": [
       "<Axes: xlabel='class', ylabel='fare'>"
      ]
     },
     "execution_count": 239,
     "metadata": {},
     "output_type": "execute_result"
    },
    {
     "data": {
      "image/png": "[encoded data removed]",
      "text/plain": [
       "<Figure size 640x480 with 1 Axes>"
      ]
     },
     "metadata": {},
     "output_type": "display_data"
    }
   ],
   "source": [
    "sns.violinplot(x='class',y= 'fare',data=titanic)"
   ]
  },
  {
   "cell_type": "code",
   "execution_count": 236,
   "id": "e1ee2769",
   "metadata": {},
   "outputs": [
    {
     "data": {
      "text/plain": [
       "<Axes: xlabel='sex', ylabel='age'>"
      ]
     },
     "execution_count": 236,
     "metadata": {},
     "output_type": "execute_result"
    },
    {
     "data": {
      "image/png": "[encoded data removed]",
      "text/plain": [
       "<Figure size 640x480 with 1 Axes>"
      ]
     },
     "metadata": {},
     "output_type": "display_data"
    }
   ],
   "source": [
    "sns.barplot(x='sex',y='age',data= titanic)"
   ]
  },
  {
   "cell_type": "code",
   "execution_count": 240,
   "id": "86fc3328",
   "metadata": {},
   "outputs": [
    {
     "name": "stderr",
     "output_type": "stream",
     "text": [
      "C:\\Users\\william.bai\\AppData\\Local\\Temp\\ipykernel_39332\\2604568842.py:1: FutureWarning: The default of observed=False is deprecated and will be changed to True in a future version of pandas. Pass observed=False to retain current behavior or observed=True to adopt the future default and silence this warning.\n",
      "  titanic.groupby('class')['fare'].mean()\n"
     ]
    },
    {
     "data": {
      "text/plain": [
       "class\n",
       "First     84.154687\n",
       "Second    20.662183\n",
       "Third     13.675550\n",
       "Name: fare, dtype: float64"
      ]
     },
     "execution_count": 240,
     "metadata": {},
     "output_type": "execute_result"
    }
   ],
   "source": [
    "titanic.groupby('class')['fare'].mean()"
   ]
  },
  {
   "cell_type": "code",
   "execution_count": 242,
   "id": "2c870977",
   "metadata": {},
   "outputs": [],
   "source": [
    "from scipy.stats import ttest_ind\n",
    "titanic = sns.load_dataset('titanic').dropna(subset =['age'])\n",
    "survivors = titanic.loc[titanic['survived']==1,'age']\n",
    "nonsurvivors = titanic.loc[titanic['survived']==0,'age']"
   ]
  },
  {
   "cell_type": "code",
   "execution_count": 245,
   "id": "7fc0b0f7",
   "metadata": {},
   "outputs": [],
   "source": [
    "t_stat,p_val = ttest_ind(survivors,nonsurvivors,equal_var=False)"
   ]
  },
  {
   "cell_type": "code",
   "execution_count": 247,
   "id": "95440665",
   "metadata": {},
   "outputs": [
    {
     "name": "stdout",
     "output_type": "stream",
     "text": [
      "t_stat: -2.0460301043939704\n",
      "p_val 0.04118965162586639\n"
     ]
    }
   ],
   "source": [
    "print('t_stat:',t_stat)\n",
    "print('p_val',p_val)"
   ]
  },
  {
   "cell_type": "code",
   "execution_count": 259,
   "id": "530b6036",
   "metadata": {},
   "outputs": [],
   "source": [
    "titanic = sns.load_dataset('titanic').dropna(subset = ['age'])"
   ]
  },
  {
   "cell_type": "code",
   "execution_count": 260,
   "id": "447ca352",
   "metadata": {},
   "outputs": [],
   "source": [
    "from scipy.stats import f_oneway\n",
    "class1 = titanic.loc[titanic['pclass']==1,'age']\n",
    "class2 = titanic.loc[titanic['pclass']==2,'age']\n",
    "class3 = titanic.loc[titanic['pclass']==3,'age']"
   ]
  },
  {
   "cell_type": "code",
   "execution_count": 262,
   "id": "e78fbc34",
   "metadata": {},
   "outputs": [
    {
     "name": "stdout",
     "output_type": "stream",
     "text": [
      "F-statistic: 57.44348434067624\n",
      "p-value: 7.487984171959212e-24\n"
     ]
    }
   ],
   "source": [
    "F_stat,p_val = f_oneway(class1,class2,class3)\n",
    "print(\"F-statistic:\",F_stat)\n",
    "print('p-value:',p_val)\n"
   ]
  },
  {
   "cell_type": "code",
   "execution_count": 263,
   "id": "e53c2a2b",
   "metadata": {},
   "outputs": [],
   "source": [
    "titanic = sns.load_dataset('titanic').dropna()"
   ]
  },
  {
   "cell_type": "code",
   "execution_count": 265,
   "id": "051372c0",
   "metadata": {},
   "outputs": [
    {
     "data": {
      "image/png": "[encoded data removed]",
      "text/plain": [
       "<Figure size 640x480 with 1 Axes>"
      ]
     },
     "metadata": {},
     "output_type": "display_data"
    }
   ],
   "source": [
    "sns.boxplot(x='class',y='fare',data=titanic)\n",
    "plt.title('Fare by Passenger Class')\n",
    "plt.show()"
   ]
  },
  {
   "cell_type": "code",
   "execution_count": 266,
   "id": "cfde1938",
   "metadata": {},
   "outputs": [
    {
     "name": "stdout",
     "output_type": "stream",
     "text": [
      "class\n",
      "First     89.021975\n",
      "Second    18.444447\n",
      "Third     11.027500\n",
      "Name: fare, dtype: float64\n"
     ]
    },
    {
     "name": "stderr",
     "output_type": "stream",
     "text": [
      "C:\\Users\\william.bai\\AppData\\Local\\Temp\\ipykernel_39332\\61398063.py:1: FutureWarning: The default of observed=False is deprecated and will be changed to True in a future version of pandas. Pass observed=False to retain current behavior or observed=True to adopt the future default and silence this warning.\n",
      "  print(titanic.groupby('class')['fare'].mean())\n"
     ]
    }
   ],
   "source": [
    "print(titanic.groupby('class')['fare'].mean())"
   ]
  },
  {
   "cell_type": "code",
   "execution_count": 268,
   "id": "2ba28a00",
   "metadata": {},
   "outputs": [],
   "source": [
    "titanic = sns.load_dataset('titanic')"
   ]
  },
  {
   "cell_type": "code",
   "execution_count": 269,
   "id": "7035cfd2",
   "metadata": {},
   "outputs": [
    {
     "name": "stdout",
     "output_type": "stream",
     "text": [
      "survived    0    1\n",
      "sex               \n",
      "female     81  233\n",
      "male      468  109\n"
     ]
    }
   ],
   "source": [
    "#Basic crosstab\n",
    "table = pd.crosstab(titanic['sex'],titanic['survived'])\n",
    "print(table)"
   ]
  },
  {
   "cell_type": "code",
   "execution_count": 270,
   "id": "19a2bfac",
   "metadata": {},
   "outputs": [
    {
     "data": {
      "text/html": [
       "<div>\n",
       "<style scoped>\n",
       "    .dataframe tbody tr th:only-of-type {\n",
       "        vertical-align: middle;\n",
       "    }\n",
       "\n",
       "    .dataframe tbody tr th {\n",
       "        vertical-align: top;\n",
       "    }\n",
       "\n",
       "    .dataframe thead th {\n",
       "        text-align: right;\n",
       "    }\n",
       "</style>\n",
       "<table border=\"1\" class=\"dataframe\">\n",
       "  <thead>\n",
       "    <tr style=\"text-align: right;\">\n",
       "      <th>survived</th>\n",
       "      <th>0</th>\n",
       "      <th>1</th>\n",
       "    </tr>\n",
       "    <tr>\n",
       "      <th>sex</th>\n",
       "      <th></th>\n",
       "      <th></th>\n",
       "    </tr>\n",
       "  </thead>\n",
       "  <tbody>\n",
       "    <tr>\n",
       "      <th>female</th>\n",
       "      <td>0.257962</td>\n",
       "      <td>0.742038</td>\n",
       "    </tr>\n",
       "    <tr>\n",
       "      <th>male</th>\n",
       "      <td>0.811092</td>\n",
       "      <td>0.188908</td>\n",
       "    </tr>\n",
       "  </tbody>\n",
       "</table>\n",
       "</div>"
      ],
      "text/plain": [
       "survived         0         1\n",
       "sex                         \n",
       "female    0.257962  0.742038\n",
       "male      0.811092  0.188908"
      ]
     },
     "execution_count": 270,
     "metadata": {},
     "output_type": "execute_result"
    }
   ],
   "source": [
    "#Normalize = 'index' -> Row-wise percentage (within sex)\n",
    "pd.crosstab(titanic['sex'],titanic['survived'],normalize='index')"
   ]
  },
  {
   "cell_type": "code",
   "execution_count": 271,
   "id": "18307d4d",
   "metadata": {},
   "outputs": [
    {
     "data": {
      "text/html": [
       "<div>\n",
       "<style scoped>\n",
       "    .dataframe tbody tr th:only-of-type {\n",
       "        vertical-align: middle;\n",
       "    }\n",
       "\n",
       "    .dataframe tbody tr th {\n",
       "        vertical-align: top;\n",
       "    }\n",
       "\n",
       "    .dataframe thead th {\n",
       "        text-align: right;\n",
       "    }\n",
       "</style>\n",
       "<table border=\"1\" class=\"dataframe\">\n",
       "  <thead>\n",
       "    <tr style=\"text-align: right;\">\n",
       "      <th>survived</th>\n",
       "      <th>0</th>\n",
       "      <th>1</th>\n",
       "    </tr>\n",
       "    <tr>\n",
       "      <th>sex</th>\n",
       "      <th></th>\n",
       "      <th></th>\n",
       "    </tr>\n",
       "  </thead>\n",
       "  <tbody>\n",
       "    <tr>\n",
       "      <th>female</th>\n",
       "      <td>0.147541</td>\n",
       "      <td>0.681287</td>\n",
       "    </tr>\n",
       "    <tr>\n",
       "      <th>male</th>\n",
       "      <td>0.852459</td>\n",
       "      <td>0.318713</td>\n",
       "    </tr>\n",
       "  </tbody>\n",
       "</table>\n",
       "</div>"
      ],
      "text/plain": [
       "survived         0         1\n",
       "sex                         \n",
       "female    0.147541  0.681287\n",
       "male      0.852459  0.318713"
      ]
     },
     "execution_count": 271,
     "metadata": {},
     "output_type": "execute_result"
    }
   ],
   "source": [
    "#Normalize ='columns' -> Column-wise percentage (within survival status)\n",
    "pd.crosstab(titanic['sex'],titanic['survived'],normalize='columns')"
   ]
  },
  {
   "cell_type": "code",
   "execution_count": 272,
   "id": "110bad97",
   "metadata": {},
   "outputs": [],
   "source": [
    "survival_rate = titanic.groupby('sex')['survived'].mean()"
   ]
  },
  {
   "cell_type": "code",
   "execution_count": 274,
   "id": "e803aa85",
   "metadata": {},
   "outputs": [
    {
     "data": {
      "text/plain": [
       "<Axes: title={'center': 'Survival Rate by Sex'}, xlabel='sex'>"
      ]
     },
     "execution_count": 274,
     "metadata": {},
     "output_type": "execute_result"
    },
    {
     "data": {
      "image/png": "[encoded data removed]",
      "text/plain": [
       "<Figure size 640x480 with 1 Axes>"
      ]
     },
     "metadata": {},
     "output_type": "display_data"
    }
   ],
   "source": [
    "survival_rate.plot(kind='bar',title='Survival Rate by Sex')"
   ]
  },
  {
   "cell_type": "code",
   "execution_count": null,
   "id": "6e20052b",
   "metadata": {},
   "outputs": [],
   "source": []
  }
 ],
 "metadata": {
  "kernelspec": {
   "display_name": "myenv",
   "language": "python",
   "name": "python3"
  },
  "language_info": {
   "codemirror_mode": {
    "name": "ipython",
    "version": 3
   },
   "file_extension": ".py",
   "mimetype": "text/x-python",
   "name": "python",
   "nbconvert_exporter": "python",
   "pygments_lexer": "ipython3",
   "version": "3.13.5"
  }
 },
 "nbformat": 4,
 "nbformat_minor": 5
}
