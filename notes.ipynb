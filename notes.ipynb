{
 "cells": [
  {
   "cell_type": "markdown",
   "id": "223cb971",
   "metadata": {},
   "source": [
    "Connected with Karthikeyan and talked about his role in PNC bank and his daily activities and what he does. Automate data cleaning process, build ml models, talked a lot about BI (business intelligence). Taught us how to build visualizations on Tableau. Told us the importance of \"logging\" and how you can trace back to fix bugs. Introduced us to ML Flow and how that helped with logging. Lastly gave us some tips to impress clients so that I get put on better projects"
   ]
  },
  {
   "cell_type": "markdown",
   "id": "a23174d4",
   "metadata": {},
   "source": [
    "Connected with Bryon and talked about the importance of networking, especially when you not in a project right now, its even more important. Main tip/advice he gave me is leading from the bottom. Seniors are busy, and how you can lead and set everything up for them and be proactive reaching out. \"Leading from the bottom\". That shows inititive and helps you stand out. By thinking in his shoes, you are able to lead and make things easier for him by setting everything up. This shows leadership even when you are lower leveled."
   ]
  },
  {
   "cell_type": "markdown",
   "id": "be01c165",
   "metadata": {},
   "source": [
    "Connected with Emmanuel and had a brief conversation about backgrounds. He was also self taught learning coding just like me. Mainly talked about how to his first two project experiences. Some are fast paced really depends. First project quite different from training and school, but would get used to it. He got sent to Texas because of client project. "
   ]
  },
  {
   "cell_type": "markdown",
   "id": "b37a83fb",
   "metadata": {},
   "source": [
    "Main goal in 3-5 years would def still be in this field doing coding, and related to data. Hope to have more exposure to data science and machine learning concepts, because that is what I am passionate about. Def would still keep learning on my free time because I have motivation to do well on the job"
   ]
  },
  {
   "cell_type": "markdown",
   "id": "08380219",
   "metadata": {},
   "source": [
    "Met with Kabeer and he is working on PNC. I asked about his day to day life at PNC and he said he does data analysis and data science work. He built product from sratch and now maintains it and adds new features. Been there for 1.5 years in PNC. He recommends focusing on SQL, Excel and Pyspark"
   ]
  }
 ],
 "metadata": {
  "language_info": {
   "name": "python"
  }
 },
 "nbformat": 4,
 "nbformat_minor": 5
}
