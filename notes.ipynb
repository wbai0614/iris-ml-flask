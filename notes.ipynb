{
 "cells": [
  {
   "cell_type": "markdown",
   "id": "223cb971",
   "metadata": {},
   "source": [
    "Connected with Karthikeyan and talked about his role in PNC bank and his daily activities and what he does. Automate data cleaning process, build ml models, talked a lot about BI (business intelligence). Taught us how to build visualizations on Tableau. Told us the importance of \"logging\" and how you can trace back to fix bugs. Introduced us to ML Flow and how that helped with logging. Lastly gave us some tips to impress clients so that I get put on better projects"
   ]
  },
  {
   "cell_type": "markdown",
   "id": "a23174d4",
   "metadata": {},
   "source": [
    "Connected with Bryon and talked about the importance of networking, especially when you not in a project right now, its even more important. Main tip/advice he gave me is leading from the bottom. Seniors are busy, and how you can lead and set everything up for them and be proactive reaching out. \"Leading from the bottom\". That shows inititive and helps you stand out. By thinking in his shoes, you are able to lead and make things easier for him by setting everything up. This shows leadership even when you are lower leveled."
   ]
  },
  {
   "cell_type": "markdown",
   "id": "be01c165",
   "metadata": {},
   "source": [
    "Connected with Emmanuel and had a brief conversation about backgrounds. He was also self taught learning coding just like me. Mainly talked about how to his first two project experiences. Some are fast paced really depends. First project quite different from training and school, but would get used to it. He got sent to Texas because of client project. "
   ]
  },
  {
   "cell_type": "markdown",
   "id": "b37a83fb",
   "metadata": {},
   "source": [
    "Main goal in 3-5 years would def still be in this field doing coding, and related to data. Hope to have more exposure to data science and machine learning concepts, because that is what I am passionate about. Def would still keep learning on my free time because I have motivation to do well on the job"
   ]
  },
  {
   "cell_type": "markdown",
   "id": "08380219",
   "metadata": {},
   "source": [
    "Met with Kabeer and he is working on PNC. I asked about his day to day life at PNC and he said he does data analysis and data science work. He built product from sratch and now maintains it and adds new features. Been there for 1.5 years in PNC. He recommends focusing on SQL, Excel and Pyspark"
   ]
  },
  {
   "cell_type": "markdown",
   "id": "79f980a1",
   "metadata": {},
   "source": [
    "Met with Atul and he also works at Verizon. He told me the importance of understanding the domain and the problem statement from the client and coming up with solution to provide for them. Stress the importance of studying python, and gave us a book title \"Python for data analysis\" v2. By reading it several times and understanding it, would be extremely helpful. Also study SQL topics. But python more important because we use SQL to extract and do most of the work on python. Having good python can also help with other languages such as pyspark and hadoop and big data high level languages."
   ]
  },
  {
   "cell_type": "markdown",
   "id": "14ec2d60",
   "metadata": {},
   "source": [
    "Vikas told me tips and importance of problem solving during work. Was told I can be more mature and confident. Give me until January to change that. Lastly, asking for help is important."
   ]
  },
  {
   "cell_type": "markdown",
   "id": "1a790c1d",
   "metadata": {},
   "source": []
  },
  {
   "cell_type": "markdown",
   "id": "534d1738",
   "metadata": {},
   "source": [
    "Built automated ML pipelines in AWS to clean and vaildate booking and usage records, to ensure high quality data for forecasting models at PingPod\n",
    "\n",
    "Applied customer segmentation using clustering on booking patterns and usage to identify high risk markets, which led to generating targeted promotions that reduced cancellations and boosted slot utilization\n",
    "\n",
    "Designed predictive regression models incorporating external factors such as fuel prices, unemployment, and seasonal trends to generate data-grounded insights for marketing and pricing strategies\n",
    "\n",
    "Conducted A/B testing to measure effectiveness of ad campaign and used bias checks to ensure recommendations were reliable\n",
    "\n",
    "Automated data validation workflows for HR process, embedded error checks that reduced inconsistencies and improved downstream analytics\n",
    "\n",
    "Developed a customer intelligence capstone project which applied RFM clustering, churn prediction, and sentiment analysis on sales data to uncover drivers and forecast revenue, which ensures validation checks and reproducable pipelines\n",
    "\n",
    "\n",
    "\n",
    "\n",
    "\n",
    "\n",
    "\n"
   ]
  },
  {
   "cell_type": "markdown",
   "id": "4596adea",
   "metadata": {},
   "source": []
  }
 ],
 "metadata": {
  "language_info": {
   "name": "python"
  }
 },
 "nbformat": 4,
 "nbformat_minor": 5
}
